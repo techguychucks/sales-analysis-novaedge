{
 "cells": [
  {
   "cell_type": "markdown",
   "id": "3a125ce6",
   "metadata": {},
   "source": [
    "# 📊 Sales Dashboard - NovaEdge Distributors LTD\n",
    "This project analyzes sales data using **Pandas** and visualizes key insights with **Matplotlib** and **Seaborn**.\n",
    "\n",
    "**Dataset Info:** Monthly sales of three products across three regions in 2023."
   ]
  },
  {
   "cell_type": "code",
   "execution_count": null,
   "id": "3ea5c411",
   "metadata": {},
   "outputs": [],
   "source": [
    "import pandas as pd\n",
    "import matplotlib.pyplot as plt\n",
    "import seaborn as sns"
   ]
  },
  {
   "cell_type": "code",
   "execution_count": null,
   "id": "1c97e70f",
   "metadata": {},
   "outputs": [],
   "source": [
    "# Load the dataset\n",
    "df = pd.read_excel('sales_data.xlsx')\n",
    "df.head()"
   ]
  },
  {
   "cell_type": "code",
   "execution_count": null,
   "id": "36dea558",
   "metadata": {},
   "outputs": [],
   "source": [
    "# Clean column names and parse dates\n",
    "df.columns = df.columns.str.strip()\n",
    "df['Date'] = pd.to_datetime(df['Date'])\n",
    "df['Month'] = df['Date'].dt.to_period('M')\n",
    "df.head()"
   ]
  },
  {
   "cell_type": "markdown",
   "id": "9761bf76",
   "metadata": {},
   "source": [
    "## 📈 Revenue by Region"
   ]
  },
  {
   "cell_type": "code",
   "execution_count": null,
   "id": "1ae33c27",
   "metadata": {},
   "outputs": [],
   "source": [
    "region_revenue = df.groupby('Region')['Revenue'].sum().sort_values(ascending=False)\n",
    "print(region_revenue)\n",
    "\n",
    "sns.barplot(x=region_revenue.index, y=region_revenue.values, palette='coolwarm')\n",
    "plt.title('Total Revenue by Region')\n",
    "plt.ylabel('Revenue')\n",
    "plt.xlabel('Region')\n",
    "plt.tight_layout()\n",
    "plt.show()"
   ]
  },
  {
   "cell_type": "markdown",
   "id": "0f7ae04f",
   "metadata": {},
   "source": [
    "## 🏆 Top-Selling Products (Units Sold)"
   ]
  },
  {
   "cell_type": "code",
   "execution_count": null,
   "id": "6fd06658",
   "metadata": {},
   "outputs": [],
   "source": [
    "top_products = df.groupby('Product')['Units Sold'].sum().sort_values(ascending=False)\n",
    "print(top_products)\n",
    "\n",
    "sns.barplot(x=top_products.index, y=top_products.values, palette='viridis')\n",
    "plt.title('Top-Selling Products')\n",
    "plt.ylabel('Units Sold')\n",
    "plt.xlabel('Product')\n",
    "plt.tight_layout()\n",
    "plt.show()"
   ]
  },
  {
   "cell_type": "markdown",
   "id": "b9612c90",
   "metadata": {},
   "source": [
    "## 📅 Monthly Revenue Trend"
   ]
  },
  {
   "cell_type": "code",
   "execution_count": null,
   "id": "54b58524",
   "metadata": {},
   "outputs": [],
   "source": [
    "monthly_revenue = df.groupby('Month')['Revenue'].sum()\n",
    "print(monthly_revenue)\n",
    "\n",
    "plt.figure(figsize=(10, 5))\n",
    "sns.lineplot(x=monthly_revenue.index.astype(str), y=monthly_revenue.values, marker='o')\n",
    "plt.title('Monthly Revenue Trend')\n",
    "plt.ylabel('Revenue')\n",
    "plt.xlabel('Month')\n",
    "plt.xticks(rotation=45)\n",
    "plt.tight_layout()\n",
    "plt.show()"
   ]
  },
  {
   "cell_type": "markdown",
   "id": "fb755d8f",
   "metadata": {},
   "source": [
    "## ✅ Insights\n",
    "- North region generated the highest revenue.\n",
    "- Product B sold the most units overall.\n",
    "- Revenue shows an upward trend from January to December 2023.\n",
    "\n",
    "This dashboard helps visualize key metrics for performance evaluation and decision-making."
   ]
  }
 ],
 "metadata": {
  "language_info": {
   "name": "python"
  }
 },
 "nbformat": 4,
 "nbformat_minor": 5
}
